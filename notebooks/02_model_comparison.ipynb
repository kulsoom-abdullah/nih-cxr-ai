{
 "cells": [
  {
   "cell_type": "code",
   "execution_count": null,
   "metadata": {},
   "outputs": [],
   "source": []
  },
  {
   "cell_type": "code",
   "execution_count": null,
   "metadata": {},
   "outputs": [],
   "source": []
  },
  {
   "cell_type": "code",
   "execution_count": null,
   "metadata": {},
   "outputs": [],
   "source": [
    "# In your notebook after training models:\n",
    "\n",
    "# Analyze performance across age groups\n",
    "traditional_results = visualizer.analyze_metadata_performance(\n",
    "    y_true=y_test,\n",
    "    y_pred=traditional_preds,\n",
    "    metadata_col='Patient Age',\n",
    "    model_name='Traditional CNN'\n",
    ")\n",
    "\n",
    "foundation_results = visualizer.analyze_metadata_performance(\n",
    "    y_true=y_test,\n",
    "    y_pred=foundation_preds,\n",
    "    metadata_col='Patient Age',\n",
    "    model_name='Foundation Model'\n",
    ")\n",
    "\n",
    "# Compare performances\n",
    "visualizer.compare_model_performances(\n",
    "    traditional_results,\n",
    "    foundation_results,\n",
    "    metadata_col='Patient Age'\n",
    ")\n",
    "\n",
    "# Analyze rare cases\n",
    "rare_diseases = visualizer.analyze_rare_cases(threshold=1000)"
   ]
  }
 ],
 "metadata": {
  "language_info": {
   "name": "python"
  }
 },
 "nbformat": 4,
 "nbformat_minor": 2
}
